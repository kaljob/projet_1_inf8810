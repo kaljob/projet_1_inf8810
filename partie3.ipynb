{
  "nbformat": 4,
  "nbformat_minor": 0,
  "metadata": {
    "colab": {
      "provenance": []
    },
    "kernelspec": {
      "name": "python3",
      "display_name": "Python 3"
    },
    "language_info": {
      "name": "python"
    }
  },
  "cells": [
    {
      "cell_type": "markdown",
      "source": [
        "# Partie 3 : Spark (11 points)\n",
        "## Objectf et utlité de notre traitement Spark\n",
        "\n",
        "L'objectif de notre traitement Spark est de pouvoir identifier les tendances locales de location par type de logement.\n",
        "\n",
        "Cela révèle les types de propriétés et les villes où les hôtes imposent des séjours minimums plus longs, ce qui peut être indicatif de régions avec une demande de location plus stable ou orientée vers des séjours prolongés (par exemple, pour des touristes ou des voyageurs d'affaires préférant des locations à long terme).\n",
        "\n"
      ],
      "metadata": {
        "id": "6sRgv4sAa7Oh"
      }
    },
    {
      "cell_type": "markdown",
      "source": [
        "## Description des étapes de notre traitement Spark\n",
        "\n",
        "### Initialisation de la session Spark :\n",
        "\n",
        "Une session Spark est créée en utilisant SparkSession.builder, avec un nom d’application pour faciliter le suivi des processus dans l’interface de gestion de Spark.\n",
        "\n",
        "### Chargement des données :\n",
        "\n",
        "* Importer le fichier csv \"listings_clean.csv\" dans l'environnement de gogle colab.\n",
        "\n",
        "* Les données sont chargées depuis un fichier CSV nommé \"listings_clean.csv\", avec header=True pour lire la première ligne comme en-tête et inferSchema=True pour déduire automatiquement les types de colonnes.\n",
        "\n",
        "* L’option multiLine=True permet de traiter les champs de texte multiline, tandis que escape='\"' et quote='\"' garantissent une gestion correcte des guillemets dans les champs de texte.\n",
        "\n",
        "### Affichage d’un échantillon des données :\n",
        "\n",
        "Afficher les cinq premières lignes du DataFrame pour vérifier la structure et le contenu des données, et s’assurer que les colonnes importantes comme \"ville\", \"property_type\", \"minimum_nights\" et \"maximum_nights\" sont présentes et bien interprétées.\n",
        "\n",
        "### Regroupement et agrégation par ville et type de propriété :\n",
        "\n",
        "* Les données sont regroupées par ville et property_type (type de logement).\n",
        "\n",
        "* Les moyennes des colonnes \"minimum_nights\" et \"maximum_nights\" sont calculées pour chaque groupe. Les résultats sont stockés dans de nouvelles colonnes appelées \"moyenne_minimum_nights\" et \"moyenne_maximum_nights\".\n",
        "\n",
        "### Tri des résultats :\n",
        "\n",
        "Les résultats sont triés en ordre décroissant selon la colonne \"moyenne_minimum_nights\", ce qui permet de visualiser en premier les villes et types de logements avec les séjours minimums moyens les plus élevés.\n",
        "\n",
        "### Affichage des résultats agrégés :\n",
        "\n",
        "Affichage des résultats finaux du traitement, montrant pour chaque ville et type de logement les moyennes des séjours minimum et maximum."
      ],
      "metadata": {
        "id": "yVvyihEgcSGN"
      }
    },
    {
      "cell_type": "markdown",
      "source": [
        "## Implémentation des étapes de notre traitement Spark"
      ],
      "metadata": {
        "id": "hdUlVypvndet"
      }
    },
    {
      "cell_type": "code",
      "source": [
        "!wget https://data.insideairbnb.com/canada/qc/montreal/2024-09-13/data/listings.csv.gz"
      ],
      "metadata": {
        "id": "jk9b7Ultqd1f"
      },
      "execution_count": null,
      "outputs": []
    },
    {
      "cell_type": "code",
      "execution_count": 19,
      "metadata": {
        "id": "P2u4mxVoTyZl"
      },
      "outputs": [],
      "source": [
        "from pyspark.sql import SparkSession\n",
        "import pyspark.sql.functions as F"
      ]
    },
    {
      "cell_type": "code",
      "source": [
        "# Initialisation de la session Spark\n",
        "spark = SparkSession.builder.appName(\"Analyse des durées de séjour par ville et type de logement\").getOrCreate()\n"
      ],
      "metadata": {
        "id": "0Mc5kLZHUGGB"
      },
      "execution_count": 20,
      "outputs": []
    },
    {
      "cell_type": "code",
      "source": [
        "# Chargement des données\n",
        "data = spark.read.options(header=True, inferSchema=True, multiline=True, escape='\"').csv(\"listings.csv.gz\")"
      ],
      "metadata": {
        "id": "OUQWXr-fUMg_"
      },
      "execution_count": 21,
      "outputs": []
    },
    {
      "cell_type": "code",
      "source": [
        "df.show(5)"
      ],
      "metadata": {
        "colab": {
          "base_uri": "https://localhost:8080/"
        },
        "id": "NLMbtMxOVj9G",
        "outputId": "6c380b4d-661e-42cc-acbe-d6a8fec66969"
      },
      "execution_count": 22,
      "outputs": [
        {
          "output_type": "stream",
          "name": "stdout",
          "text": [
            "+-----+--------------------+--------------+------------+-----------+--------------------+--------------------+---------------------+--------------------+-------+--------------------+---------+----------+----------------+--------------------+------------------+------------------+--------------------+-----------------+--------------------+--------------------+------------------+-------------------+-------------------------+--------------------+--------------------+----------------------+--------------------+----------------------+----------------------------+--------+---------+--------------------+---------------+------------+---------+--------------+--------+----+--------------------+-------+--------------+--------------+----------------------+----------------------+----------------------+----------------------+----------------------+----------------------+----------------+----------------+---------------+---------------+---------------+----------------+---------------------+-----------------+---------------------+----------------------+------------+-----------+--------------------+----------------------+-------------------------+---------------------+---------------------------+----------------------+-------------------+--------------------+----------------+------------------------------+-------------------------------------------+--------------------------------------------+-------------------------------------------+-----------------+\n",
            "|   id|         listing_url|     scrape_id|last_scraped|     source|                name|         description|neighborhood_overview|         picture_url|host_id|            host_url|host_name|host_since|   host_location|          host_about|host_response_time|host_response_rate|host_acceptance_rate|host_is_superhost|  host_thumbnail_url|    host_picture_url|host_neighbourhood|host_listings_count|host_total_listings_count|  host_verifications|host_has_profile_pic|host_identity_verified|       neighbourhood|neighbourhood_cleansed|neighbourhood_group_cleansed|latitude|longitude|       property_type|      room_type|accommodates|bathrooms|bathrooms_text|bedrooms|beds|           amenities|  price|minimum_nights|maximum_nights|minimum_minimum_nights|maximum_minimum_nights|minimum_maximum_nights|maximum_maximum_nights|minimum_nights_avg_ntm|maximum_nights_avg_ntm|calendar_updated|has_availability|availability_30|availability_60|availability_90|availability_365|calendar_last_scraped|number_of_reviews|number_of_reviews_ltm|number_of_reviews_l30d|first_review|last_review|review_scores_rating|review_scores_accuracy|review_scores_cleanliness|review_scores_checkin|review_scores_communication|review_scores_location|review_scores_value|             license|instant_bookable|calculated_host_listings_count|calculated_host_listings_count_entire_homes|calculated_host_listings_count_private_rooms|calculated_host_listings_count_shared_rooms|reviews_per_month|\n",
            "+-----+--------------------+--------------+------------+-----------+--------------------+--------------------+---------------------+--------------------+-------+--------------------+---------+----------+----------------+--------------------+------------------+------------------+--------------------+-----------------+--------------------+--------------------+------------------+-------------------+-------------------------+--------------------+--------------------+----------------------+--------------------+----------------------+----------------------------+--------+---------+--------------------+---------------+------------+---------+--------------+--------+----+--------------------+-------+--------------+--------------+----------------------+----------------------+----------------------+----------------------+----------------------+----------------------+----------------+----------------+---------------+---------------+---------------+----------------+---------------------+-----------------+---------------------+----------------------+------------+-----------+--------------------+----------------------+-------------------------+---------------------+---------------------------+----------------------+-------------------+--------------------+----------------+------------------------------+-------------------------------------------+--------------------------------------------+-------------------------------------------+-----------------+\n",
            "| 2843|https://www.airbn...|20240913025610|  2024-09-13|city scrape|Fabulous downtown...|Come stay in this...| This area of St H...|https://a0.muscac...|   2319|https://www.airbn...|     Gail|2008-08-19|Montreal, Canada|Manage a network ...|    within an hour|              100%|                 70%|                f|https://a0.muscac...|https://a0.muscac...|   Little Burgundy|                  4|                        7|  ['email', 'phone']|                   t|                     t|Neighborhood high...|          Le Sud-Ouest|                        NULL|45.48496|-73.58001|Private room in r...|   Private room|           1|      1.0| 1 shared bath|       1|   1|[\"Hot water kettl...| $50.00|            31|           365|                    31|                    31|                   365|                   365|                  31.0|                 365.0|            NULL|               t|              0|              0|              0|             255|           2024-09-13|              161|                    1|                     0|  2009-06-20| 2024-06-14|                4.41|                  4.51|                      4.3|                 4.61|                       4.72|                  4.73|               4.63|                NULL|               f|                             4|                                          0|                                           4|                                          0|             0.87|\n",
            "|29059|https://www.airbn...|20240913025610|  2024-09-13|city scrape|Lovely studio Qua...|CITQ 267153<br />...| CENTRAL is the wa...|https://a0.muscac...| 125031|https://www.airbn...| Maryline|2010-05-14|Montreal, Canada|Voyageuse dans l'...|    within an hour|              100%|                 99%|                f|https://a0.muscac...|https://a0.muscac...| Downtown Montreal|                  2|                        2|['email', 'phone'...|                   t|                     t|Neighborhood high...|           Ville-Marie|                        NULL|45.51939|-73.56482|  Entire rental unit|Entire home/apt|           4|      1.0|        1 bath|       1|   3|[\"Hot water kettl...|$197.00|            31|            60|                     2|                     2|                  1125|                  1125|                   2.0|                1125.0|            NULL|               t|             10|             38|             66|             334|           2024-09-13|              467|                   36|                     1|  2010-06-20| 2024-08-17|                4.68|                  4.79|                     4.63|                 4.82|                       4.78|                  4.82|               4.68|267153, expires: ...|               f|                             2|                                          2|                                           0|                                          0|             2.69|\n",
            "|29061|https://www.airbn...|20240913025610|  2024-09-13|city scrape|Maison historique...|Lovely historic h...| The neighborhood ...|https://a0.muscac...| 125031|https://www.airbn...| Maryline|2010-05-14|Montreal, Canada|Voyageuse dans l'...|    within an hour|              100%|                 99%|                f|https://a0.muscac...|https://a0.muscac...| Downtown Montreal|                  2|                        2|['email', 'phone'...|                   t|                     t|Neighborhood high...|           Ville-Marie|                        NULL|45.51929|-73.56493|         Entire home|Entire home/apt|           4|      1.0|        1 bath|       2|   2|[\"Hot water kettl...|$236.00|             2|            21|                     2|                     2|                    21|                    21|                   2.0|                  21.0|            NULL|               t|             17|             46|             76|             345|           2024-09-13|              146|                   20|                     2|  2012-02-23| 2024-08-21|                4.74|                  4.83|                     4.68|                 4.87|                       4.81|                  4.86|               4.72|267153, expires: ...|               f|                             2|                                          2|                                           0|                                          0|             0.95|\n",
            "|31847|https://www.airbn...|20240913025610|  2024-09-13|city scrape|Downtown/Airport ...|Come stay in this...| The Atwater Marke...|https://a0.muscac...|   2319|https://www.airbn...|     Gail|2008-08-19|Montreal, Canada|Manage a network ...|    within an hour|              100%|                 70%|                f|https://a0.muscac...|https://a0.muscac...|   Little Burgundy|                  4|                        7|  ['email', 'phone']|                   t|                     t|Neighborhood high...|          Le Sud-Ouest|                        NULL|45.48467|-73.57995|Private room in r...|   Private room|           1|      1.0| 1 shared bath|       1|   1|[\"Hot water kettl...| $40.00|            31|           365|                    31|                    31|                   365|                   365|                  31.0|                 365.0|            NULL|               t|              0|              0|              0|             262|           2024-09-13|              193|                    0|                     0|  2010-06-22| 2022-08-31|                4.53|                  4.63|                      4.5|                 4.74|                       4.84|                  4.78|               4.67|                NULL|               f|                             4|                                          0|                                           4|                                          0|             1.11|\n",
            "|34715|https://www.airbn...|20240913025610|  2024-09-13|city scrape|Chez Patrac ! Mon...|Welcome to Montre...|                 NULL|https://a0.muscac...| 149769|https://www.airbn...|    Alain|2010-06-22|Montreal, Canada|Patricia et moi-m...|               N/A|               N/A|                 N/A|                f|https://a0.muscac...|https://a0.muscac...|  La Petite-Patrie|                  1|                        1|  ['email', 'phone']|                   t|                     t|                NULL|  Rosemont-La Petit...|                        NULL|45.53818| -73.6036|  Entire rental unit|Entire home/apt|           4|      1.0|        1 bath|       2|   3|[\"Private backyar...|$160.00|            31|            31|                     1|                    31|                    31|                    31|                  30.7|                  31.0|            NULL|               t|             16|             37|             67|             139|           2024-09-13|               11|                    1|                     0|  2010-11-14| 2023-11-14|                 4.9|                   4.9|                      5.0|                  5.0|                        5.0|                   4.7|                4.9|261026, expires: ...|               f|                             1|                                          1|                                           0|                                          0|             0.07|\n",
            "+-----+--------------------+--------------+------------+-----------+--------------------+--------------------+---------------------+--------------------+-------+--------------------+---------+----------+----------------+--------------------+------------------+------------------+--------------------+-----------------+--------------------+--------------------+------------------+-------------------+-------------------------+--------------------+--------------------+----------------------+--------------------+----------------------+----------------------------+--------+---------+--------------------+---------------+------------+---------+--------------+--------+----+--------------------+-------+--------------+--------------+----------------------+----------------------+----------------------+----------------------+----------------------+----------------------+----------------+----------------+---------------+---------------+---------------+----------------+---------------------+-----------------+---------------------+----------------------+------------+-----------+--------------------+----------------------+-------------------------+---------------------+---------------------------+----------------------+-------------------+--------------------+----------------+------------------------------+-------------------------------------------+--------------------------------------------+-------------------------------------------+-----------------+\n",
            "only showing top 5 rows\n",
            "\n"
          ]
        }
      ]
    },
    {
      "cell_type": "code",
      "source": [
        "# Nettoyage des données (suppression des valeurs non valides dans les colonnes minimum_nights et maximum_nights)\n",
        "df_cleaned = (\n",
        "    data\n",
        "    .withColumns(\n",
        "        {\n",
        "          \"ville\": F.split(F.col(\"host_location\"), \", \").getItem(0),\n",
        "          \"pays\": F.split(F.col(\"host_location\"), \", \").getItem(1)\n",
        "        }\n",
        "    )\n",
        "    .where((F.col(\"pays\") == F.lit(\"Canada\")) & (F.col(\"minimum_nights\").isNotNull()) & (F.col(\"maximum_nights\").isNotNull()))\n",
        "    .select(\n",
        "        F.col(\"name\"),\n",
        "        F.col(\"description\"),\n",
        "        F.col(\"neighborhood_overview\"),\n",
        "        F.col(\"host_name\"),\n",
        "        F.col(\"host_since\"),\n",
        "        F.col(\"ville\"),\n",
        "        F.col(\"property_type\"),\n",
        "        F.col(\"room_type\"),\n",
        "        F.col(\"accommodates\"),\n",
        "        F.col(\"bathrooms\"),\n",
        "        F.col(\"bathrooms_text\"),\n",
        "        F.col(\"bedrooms\"),\n",
        "        F.col(\"beds\"),\n",
        "        F.col(\"amenities\"),\n",
        "        F.col(\"price\"),\n",
        "        F.col(\"minimum_nights\"),\n",
        "        F.col(\"maximum_nights\"),\n",
        "        F.col(\"number_of_reviews\"),\n",
        "        F.col(\"review_scores_rating\"),\n",
        "        F.col(\"last_review\")\n",
        "    )\n",
        ")"
      ],
      "metadata": {
        "id": "erjGfn27XLcM"
      },
      "execution_count": 24,
      "outputs": []
    },
    {
      "cell_type": "code",
      "source": [
        "df_cleaned.show()"
      ],
      "metadata": {
        "colab": {
          "base_uri": "https://localhost:8080/"
        },
        "id": "YwViz7DJrgws",
        "outputId": "93e2b24e-9447-4aa7-81d9-f39dcf4e9f8c"
      },
      "execution_count": 25,
      "outputs": [
        {
          "output_type": "stream",
          "name": "stdout",
          "text": [
            "+--------------------+--------------------+---------------------+---------------+----------+--------+--------------------+---------------+------------+---------+--------------+--------+----+--------------------+-------+--------------+--------------+-----------------+--------------------+-----------+\n",
            "|                name|         description|neighborhood_overview|      host_name|host_since|   ville|       property_type|      room_type|accommodates|bathrooms|bathrooms_text|bedrooms|beds|           amenities|  price|minimum_nights|maximum_nights|number_of_reviews|review_scores_rating|last_review|\n",
            "+--------------------+--------------------+---------------------+---------------+----------+--------+--------------------+---------------+------------+---------+--------------+--------+----+--------------------+-------+--------------+--------------+-----------------+--------------------+-----------+\n",
            "|Fabulous downtown...|Come stay in this...| This area of St H...|           Gail|2008-08-19|Montreal|Private room in r...|   Private room|           1|      1.0| 1 shared bath|       1|   1|[\"Hot water kettl...| $50.00|            31|           365|              161|                4.41| 2024-06-14|\n",
            "|Lovely studio Qua...|CITQ 267153<br />...| CENTRAL is the wa...|       Maryline|2010-05-14|Montreal|  Entire rental unit|Entire home/apt|           4|      1.0|        1 bath|       1|   3|[\"Hot water kettl...|$197.00|            31|            60|              467|                4.68| 2024-08-17|\n",
            "|Maison historique...|Lovely historic h...| The neighborhood ...|       Maryline|2010-05-14|Montreal|         Entire home|Entire home/apt|           4|      1.0|        1 bath|       2|   2|[\"Hot water kettl...|$236.00|             2|            21|              146|                4.74| 2024-08-21|\n",
            "|Downtown/Airport ...|Come stay in this...| The Atwater Marke...|           Gail|2008-08-19|Montreal|Private room in r...|   Private room|           1|      1.0| 1 shared bath|       1|   1|[\"Hot water kettl...| $40.00|            31|           365|              193|                4.53| 2022-08-31|\n",
            "|Chez Patrac ! Mon...|Welcome to Montre...|                 NULL|          Alain|2010-06-22|Montreal|  Entire rental unit|Entire home/apt|           4|      1.0|        1 bath|       2|   3|[\"Private backyar...|$160.00|            31|            31|               11|                 4.9| 2023-11-14|\n",
            "|Romantic & peacef...|Enjoy the best of...| The neighborhood ...|         Sylvie|2011-02-07|Montreal|  Entire rental unit|Entire home/apt|           2|     NULL|        1 bath|       1|NULL|[\"Microwave\", \"Ho...|   NULL|           210|           730|               52|                4.87| 2024-08-31|\n",
            "|Beautiful room  w...|Nearest metro Pap...|                 NULL|             M.|2010-07-11|Montreal|Private room in r...|   Private room|           1|      1.0| 1 shared bath|       3|   4|[\"Hot water\", \"Ov...| $50.00|            31|            60|               16|                 4.5| 2022-08-29|\n",
            "|      L'Arcade Douce|The appartement i...| Our area is full ...|         Noemie|2010-09-11|Montreal|  Entire rental unit|Entire home/apt|           3|      1.0|        1 bath|       2|   2|[\"Wine glasses\", ...|$109.00|             3|            28|              292|                4.96| 2024-09-10|\n",
            "|Your Tranquil Oas...|Escape the hustle...| Within a 2-minute...|           Anna|2010-12-21|Montreal|  Entire rental unit|Entire home/apt|           2|      1.0|        1 bath|       1|   1|[\"Indoor fireplac...| $63.00|            31|           180|               43|                4.73| 2024-08-12|\n",
            "|Ultra Luxurious -...|Ultra Luxurious, ...|                 NULL|     Marc Andre|2010-06-16|Montreal|        Entire condo|Entire home/apt|           4|      1.5|     1.5 baths|       1|   2|[\"Free washer\", \"...| $90.00|            31|           365|                1|                 4.0| 2013-10-15|\n",
            "|Large, sunny hous...|CITQ: 310728<br /...| Pointe Saint-Char...|Jennifer&Steeve|2010-11-21|Montreal|         Entire home|Entire home/apt|           6|      2.5|     2.5 baths|       3|   3|[\"Private backyar...|$429.00|             3|            32|               41|                 4.9| 2024-08-12|\n",
            "|Country feeling l...|                NULL|                 NULL|         Sylvie|2011-02-07|Montreal|  Entire rental unit|Entire home/apt|           3|      1.0|        1 bath|       1|   2|[\"Microwave\", \"Ho...|$170.00|            32|           730|               40|                 4.9| 2024-05-30|\n",
            "|Large apartment i...|                NULL| Called sometimes ...|       Victoria|2011-04-29|Montreal|  Entire rental unit|Entire home/apt|           4|      1.0|        1 bath|       2|   2|[\"Microwave\", \"Ho...|$123.00|             2|          1125|               97|                4.67| 2024-08-13|\n",
            "|Charming aparthot...|This charming and...|                 NULL|         Myriam|2011-04-19|Montreal|  Entire rental unit|Entire home/apt|           2|      2.0|       2 baths|       1|   1|[\"Microwave\", \"Ho...|$170.00|            31|           730|               77|                 4.8| 2024-07-31|\n",
            "|Apt + garden (Mil...|Sunny, spacious a...| The place is loca...|     Christophe|2011-06-02|Montreal|  Entire rental unit|Entire home/apt|           5|      1.0|        1 bath|       2|   2|[\"Private backyar...|$250.00|             2|            67|               78|                4.83| 2024-09-04|\n",
            "|Charming studio i...|                NULL|                 NULL|         Sylvie|2011-02-07|Montreal|  Entire rental unit|Entire home/apt|           1|      1.0|        1 bath|       0|   1|[\"Safe\", \"Hot wat...|$140.00|            32|           730|              128|                4.85| 2024-06-26|\n",
            "|Sunlit Spacious 2...|Escape to this su...| Concordia Univers...|           Anna|2010-12-21|Montreal|  Entire rental unit|Entire home/apt|           4|      1.0|        1 bath|       2|   3|[\"Hot water kettl...| $98.00|            32|           180|               28|                4.86| 2024-07-07|\n",
            "|Cosy Studio apart...|The studio is onl...| Studio convenient...|           Omar|2009-09-14|Montreal|  Entire rental unit|Entire home/apt|           2|      1.0|        1 bath|       1|   1|[\"Shared patio or...| $90.00|           186|           365|               15|                4.73| 2019-11-30|\n",
            "|The Cocooning in ...|Charming, chic, a...| Very nice area wi...|         Karine|2011-07-06|Montreal|  Entire rental unit|Entire home/apt|           3|      1.0|        1 bath|       2|   2|[\"Hot water kettl...| $95.00|            31|           730|               32|                4.69| 2022-01-02|\n",
            "|    MINI LOUNGE LOFT|                NULL| Residential neigh...|       Lapelemo|2011-07-14|Montreal|  Entire rental unit|Entire home/apt|           2|      1.0|        1 bath|       0|   1|[\"Shared gym in b...| $92.00|            31|           730|                2|                 5.0| 2022-08-07|\n",
            "+--------------------+--------------------+---------------------+---------------+----------+--------+--------------------+---------------+------------+---------+--------------+--------+----+--------------------+-------+--------------+--------------+-----------------+--------------------+-----------+\n",
            "only showing top 20 rows\n",
            "\n"
          ]
        }
      ]
    },
    {
      "cell_type": "code",
      "source": [
        "# Regroupement par ville et type de propriété, et calcul des moyennes de nuitées\n",
        "df_grouped = df_cleaned.groupBy(\"ville\",\"property_type\").agg(\n",
        "    F.avg(\"minimum_nights\").alias(\"moyenne_minimum_nights\"),\n",
        "    F.avg(\"maximum_nights\").alias(\"moyenne_maximum_nights\")\n",
        ").orderBy(F.col(\"moyenne_minimum_nights\").desc())\n"
      ],
      "metadata": {
        "id": "LL5kwmKvXNP4"
      },
      "execution_count": 27,
      "outputs": []
    },
    {
      "cell_type": "code",
      "source": [
        "# Affichage des résultats\n",
        "df_grouped.show()"
      ],
      "metadata": {
        "colab": {
          "base_uri": "https://localhost:8080/"
        },
        "id": "dvkeLfGIXTjU",
        "outputId": "132a76af-bdca-4837-b5a7-59e3abc76c33"
      },
      "execution_count": 28,
      "outputs": [
        {
          "output_type": "stream",
          "name": "stdout",
          "text": [
            "+----------------+--------------------+----------------------+----------------------+\n",
            "|           ville|       property_type|moyenne_minimum_nights|moyenne_maximum_nights|\n",
            "+----------------+--------------------+----------------------+----------------------+\n",
            "|         Candiac|  Entire rental unit|                 365.0|                 365.0|\n",
            "|  Mont-Tremblant|Private room in r...|                 365.0|                 365.0|\n",
            "|          Quebec|        Entire condo|                 198.0|                 632.5|\n",
            "|       Longueuil|         Entire loft|                 185.0|                1125.0|\n",
            "|       Dartmouth|        Entire condo|                 182.0|                 365.0|\n",
            "|  Deux-Montagnes|  Entire rental unit|                 180.0|                1125.0|\n",
            "|        Kirkland|         Entire loft|                 180.0|                1125.0|\n",
            "|        Brossard|        Entire condo|                 180.0|                1125.0|\n",
            "|         Calgary|  Entire rental unit|                 165.5|                 365.0|\n",
            "|          Ottawa|        Entire condo|     93.33333333333333|                712.25|\n",
            "|       Stratford|        Entire condo|                  90.0|                 180.0|\n",
            "|       Hampstead|        Entire condo|                  90.0|                 365.0|\n",
            "|     Québec City|  Entire rental unit|                  85.6|                 644.0|\n",
            "|       Longueuil|        Entire condo|                  68.5|                 555.0|\n",
            "|           Laval|  Entire rental unit|     62.11666666666667|     445.0833333333333|\n",
            "|    Sainte-Julie|  Entire rental unit|                  60.5|                 272.5|\n",
            "|Vaudreuil-Dorion|Private room in home|                  60.0|                 365.0|\n",
            "|         Toronto|Private room in r...|     58.22222222222222|     390.6666666666667|\n",
            "|   Pointe-Claire|  Entire rental unit|                  46.0|                 188.5|\n",
            "|      La Prairie|  Entire rental unit|                  45.5|                 365.0|\n",
            "+----------------+--------------------+----------------------+----------------------+\n",
            "only showing top 20 rows\n",
            "\n"
          ]
        }
      ]
    }
  ]
}